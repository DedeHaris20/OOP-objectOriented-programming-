{
  "nbformat": 4,
  "nbformat_minor": 0,
  "metadata": {
    "colab": {
      "name": "Dede Haris dari KM-05: Functions, OOP, Time Complexity .ipynb",
      "provenance": [],
      "collapsed_sections": []
    },
    "kernelspec": {
      "name": "python3",
      "display_name": "Python 3"
    },
    "language_info": {
      "name": "python"
    }
  },
  "cells": [
    {
      "cell_type": "markdown",
      "metadata": {
        "id": "Le8N3SLcbiAd"
      },
      "source": [
        "# **Fungsi**"
      ]
    },
    {
      "cell_type": "code",
      "metadata": {
        "colab": {
          "base_uri": "https://localhost:8080/"
        },
        "id": "ywDbPVukTDYd",
        "outputId": "a8be42c0-8485-4811-838e-e5488d3faf6b"
      },
      "source": [
        "# Deklarasi Fungsi\n",
        "def cetak(x):\n",
        "  print(x)\n",
        "\n",
        "# Memanggil Fungsi\n",
        "cetak(\"wokee\")"
      ],
      "execution_count": null,
      "outputs": [
        {
          "output_type": "stream",
          "name": "stdout",
          "text": [
            "wokee\n"
          ]
        }
      ]
    },
    {
      "cell_type": "code",
      "metadata": {
        "colab": {
          "base_uri": "https://localhost:8080/"
        },
        "id": "Y2fcpCPNbt6s",
        "outputId": "9d02e460-c4c5-4380-f328-8594de61352f"
      },
      "source": [
        "# Deklarasi Fungsi\n",
        "def cetak(x):\n",
        "  print(x)\n",
        "\n",
        "# Memanggil Fungsi\n",
        "cetak(\"Amannn\")"
      ],
      "execution_count": null,
      "outputs": [
        {
          "output_type": "stream",
          "name": "stdout",
          "text": [
            "Amannn\n"
          ]
        }
      ]
    },
    {
      "cell_type": "code",
      "metadata": {
        "colab": {
          "base_uri": "https://localhost:8080/"
        },
        "id": "RipUgd0NTdjo",
        "outputId": "33b929dd-950e-44d9-e83a-b1d24fc1c36f"
      },
      "source": [
        "# Deklarasi Fungsi dengan pengembalian\n",
        "def tambah(a, b):\n",
        "  return a + b;\n",
        "\n",
        "# Memanggil Fungsi\n",
        "print(tambah(2, 3))"
      ],
      "execution_count": null,
      "outputs": [
        {
          "output_type": "stream",
          "name": "stdout",
          "text": [
            "5\n"
          ]
        }
      ]
    },
    {
      "cell_type": "code",
      "metadata": {
        "colab": {
          "base_uri": "https://localhost:8080/"
        },
        "id": "zhxNFlj7cBqD",
        "outputId": "8a1b2b0f-b297-4a8c-adce-00a57433f834"
      },
      "source": [
        "# Deklarasi fungsi dengan pengembalian \n",
        "def tambah(a, b):\n",
        "  return a + b;\n",
        "\n",
        "#Memanggil fungsi \n",
        "print(tambah(2, 3))"
      ],
      "execution_count": null,
      "outputs": [
        {
          "output_type": "stream",
          "name": "stdout",
          "text": [
            "5\n"
          ]
        }
      ]
    },
    {
      "cell_type": "code",
      "metadata": {
        "id": "9r0oXaTxVRvi",
        "colab": {
          "base_uri": "https://localhost:8080/",
          "height": 135
        },
        "outputId": "013df6d6-6081-49da-a4fb-b3c57f6dc395"
      },
      "source": [
        "def nama_fungsi(mawar, mawar2, mawar3):\n",
        "  # isi fungsi\n",
        "\n",
        "def fungsi_dengan_pengembalian(mawar, mawar2, mawar3):\n",
        "  # isi fungsi\n",
        "  return 'sesuatu'"
      ],
      "execution_count": null,
      "outputs": [
        {
          "output_type": "error",
          "ename": "IndentationError",
          "evalue": "ignored",
          "traceback": [
            "\u001b[0;36m  File \u001b[0;32m\"<ipython-input-27-a637d454927d>\"\u001b[0;36m, line \u001b[0;32m4\u001b[0m\n\u001b[0;31m    def fungsi_dengan_pengembalian(mawar, mawar2, mawar3):\u001b[0m\n\u001b[0m      ^\u001b[0m\n\u001b[0;31mIndentationError\u001b[0m\u001b[0;31m:\u001b[0m expected an indented block\n"
          ]
        }
      ]
    },
    {
      "cell_type": "markdown",
      "metadata": {
        "id": "SLOP8yGkbpLO"
      },
      "source": [
        "# **Method**"
      ]
    },
    {
      "cell_type": "code",
      "metadata": {
        "id": "P_Z6c_AYWi71"
      },
      "source": [
        "class NamaClass:\n",
        "  def nama_class(mawar, mawar2, mawar3):\n",
        "    return 'class'\n",
        "    # isi method"
      ],
      "execution_count": null,
      "outputs": []
    },
    {
      "cell_type": "code",
      "metadata": {
        "colab": {
          "base_uri": "https://localhost:8080/"
        },
        "id": "uh927B9_W0N1",
        "outputId": "d6cd42ba-478f-40f0-cd3b-2543c9a10e42"
      },
      "source": [
        "# Deklarasi Object (Class)\n",
        "class Kucing(object):\n",
        "  def meong(self):\n",
        "    print(\"meeooong\")\n",
        "\n",
        "# Memanggil method\n",
        "cat = Kucing()\n",
        "cat.meong()"
      ],
      "execution_count": null,
      "outputs": [
        {
          "output_type": "stream",
          "name": "stdout",
          "text": [
            "meeooong\n"
          ]
        }
      ]
    },
    {
      "cell_type": "code",
      "metadata": {
        "colab": {
          "base_uri": "https://localhost:8080/"
        },
        "id": "yL3_ACckc6E2",
        "outputId": "4871acf2-c26a-4bc1-8056-5578bbae6970"
      },
      "source": [
        "# Deklarasi Object (Class)\n",
        "class anjing(object):\n",
        "  def guk(self):\n",
        "    print(\"gukgukguk\")\n",
        "\n",
        "# Memanggil method\n",
        "cat = anjing()\n",
        "cat.guk()"
      ],
      "execution_count": null,
      "outputs": [
        {
          "output_type": "stream",
          "name": "stdout",
          "text": [
            "gukgukguk\n"
          ]
        }
      ]
    },
    {
      "cell_type": "markdown",
      "metadata": {
        "id": "3WbfqdEWbtsl"
      },
      "source": [
        "# **Lambda Expression**"
      ]
    },
    {
      "cell_type": "code",
      "metadata": {
        "colab": {
          "base_uri": "https://localhost:8080/"
        },
        "id": "wmZuN2s7ZzAZ",
        "outputId": "586ae778-1cd6-4e61-bc29-e5ceed3a1e15"
      },
      "source": [
        "# Lambda expression\n",
        "tambah = lambda a, b: (a + b)\n",
        "print(tambah(2, 3))"
      ],
      "execution_count": null,
      "outputs": [
        {
          "output_type": "stream",
          "name": "stdout",
          "text": [
            "5\n"
          ]
        }
      ]
    },
    {
      "cell_type": "code",
      "metadata": {
        "colab": {
          "base_uri": "https://localhost:8080/"
        },
        "id": "Z1vMnrAedShw",
        "outputId": "01727dc1-dcd8-41ad-eecc-d5c7fcf0cdf0"
      },
      "source": [
        "# Lambda expression\n",
        "tambah = lambda a, b: (a + b)\n",
        "print(tambah(4, 5))"
      ],
      "execution_count": null,
      "outputs": [
        {
          "output_type": "stream",
          "name": "stdout",
          "text": [
            "9\n"
          ]
        }
      ]
    },
    {
      "cell_type": "markdown",
      "metadata": {
        "id": "jxicmjLxkXCa"
      },
      "source": [
        "# **Object Oriented Programming**"
      ]
    },
    {
      "cell_type": "markdown",
      "metadata": {
        "id": "K_u-Dtb6kcBm"
      },
      "source": [
        "## **Encapsulation**"
      ]
    },
    {
      "cell_type": "code",
      "metadata": {
        "colab": {
          "base_uri": "https://localhost:8080/"
        },
        "id": "9-CEKFKYm2AA",
        "outputId": "21e9c962-00c8-4b03-93b6-d4f340d7d265"
      },
      "source": [
        "nama = \"cemong\"\n",
        "usia = 1\n",
        "warna = \"putih coklat muda\"\n",
        "jenis = \"anggora\"\n",
        "\n",
        "def meongg():\n",
        "  print(\"meeeoonnggg... \")\n",
        "\n",
        "def info_kucing(nama, usia, warna, jenis):\n",
        "  print(f\"nama: {nama}, usia: {usia}, warna: {warna}, jenis: {jenis}\")\n",
        "\n",
        "info_kucing(nama, usia, warna, jenis)\n",
        "\n",
        "\n",
        "class Kucing:\n",
        "  def __init__(self, nama, usia, warna, jenis):\n",
        "    self.nama = nama\n",
        "    self.usia = usia\n",
        "    self.warna = warna\n",
        "    self.jenis = jenis\n",
        "\n",
        "  def myfunc(self):\n",
        "    print(\"Hello Handphone kamu apaaa? \" + self.nama)\n",
        "  \n",
        "  def meong(self):\n",
        "    print(\"meeeoonnggg... \")\n",
        "\n",
        "  def info(self):\n",
        "    print(f\"nama: {self.nama}, usia: {self.usia}, warna: {self.warna}, jenis: {self.jenis}\")\n",
        "\n",
        "\n",
        "kucing1 = Kucing(\"cemong\", 1, \"putih coklat muda\", \"anggora\")\n",
        "\n",
        "kucing1.info()"
      ],
      "execution_count": null,
      "outputs": [
        {
          "output_type": "stream",
          "name": "stdout",
          "text": [
            "nama: cemong, usia: 1, warna: putih coklat muda, jenis: anggora\n",
            "nama: cemong, usia: 1, warna: putih coklat muda, jenis: anggora\n"
          ]
        }
      ]
    },
    {
      "cell_type": "markdown",
      "metadata": {
        "id": "Xpt9Lz6vqN-z"
      },
      "source": [
        "## **Abstraction**"
      ]
    },
    {
      "cell_type": "code",
      "metadata": {
        "colab": {
          "base_uri": "https://localhost:8080/"
        },
        "id": "fwa_TEf-v_8f",
        "outputId": "dee42123-38c5-481a-f80f-6049108abb11"
      },
      "source": [
        "# Memanggil method dari objek tanpa harus mengetahui cara kerja method\n",
        "kucing1.myfunc()"
      ],
      "execution_count": null,
      "outputs": [
        {
          "output_type": "stream",
          "name": "stdout",
          "text": [
            "Hello Handphone kamu apaaa? cemong\n"
          ]
        }
      ]
    },
    {
      "cell_type": "code",
      "metadata": {
        "colab": {
          "base_uri": "https://localhost:8080/"
        },
        "id": "iydmKqXBqFBw",
        "outputId": "7d0df0e7-d08c-46fc-915a-6e7476b1bde3"
      },
      "source": [
        "# Memanggil method dari objek tanpa harus mengetahui cara kerja method\n",
        "handphone1.myfunc()"
      ],
      "execution_count": null,
      "outputs": [
        {
          "output_type": "stream",
          "name": "stdout",
          "text": [
            "Hello handphone kamu apaaa? redmi\n"
          ]
        }
      ]
    },
    {
      "cell_type": "markdown",
      "metadata": {
        "id": "wBoEkCxewdrg"
      },
      "source": [
        "## **Inheritence**"
      ]
    },
    {
      "cell_type": "code",
      "metadata": {
        "colab": {
          "base_uri": "https://localhost:8080/"
        },
        "id": "HsVgKNgowiRP",
        "outputId": "246a40b2-fccf-4c61-b254-700b5d6857df"
      },
      "source": [
        "class Binatang(object):\n",
        "  def __init__(self, nama, usia, jenis, mamalia):\n",
        "    self.nama = nama\n",
        "    self.usia = usia\n",
        "    self.jenis = jenis\n",
        "    self.mamalia = mamalia\n",
        "\n",
        "  def tidur(self, durasi):\n",
        "    for x in range(durasi):\n",
        "      print(\"ddrrr... ddrrr... \")\n",
        "\n",
        "  def info(self):\n",
        "    print(f\"nama: {self.nama}, usia: {self.usia}, jenis: {self.jenis}, mamalia: {self.mamalia}\")\n",
        "\n",
        "\n",
        "animal1 = Binatang(\"cemong\", 1, \"omnivora\", True)\n",
        "\n",
        "animal1.info()\n",
        "\n",
        "class Kucing(Binatang):\n",
        "  def __init__(self,  nama, usia, jenis, mamalia, warna, jenis_kucing):\n",
        "    super().__init__(nama, usia, jenis, mamalia)\n",
        "    self.warna = warna\n",
        "    self.jenis_kucing = jenis_kucing\n",
        "  \n",
        "  def meong(self):\n",
        "    print(\"meeeonnggg\")\n",
        "\n",
        "  def info_kucing(self):\n",
        "    print(f\"warna: {self.warna}, jenis kucing: {self.jenis_kucing}\")\n",
        "\n",
        "cat1 = Kucing(\"cemong\", 1, \"omnivora\", True, \"putih coklat muda\", \"anggora\")\n",
        "\n",
        "cat1.info()\n",
        "cat1.info_kucing()"
      ],
      "execution_count": null,
      "outputs": [
        {
          "output_type": "stream",
          "name": "stdout",
          "text": [
            "nama: cemong, usia: 1, jenis: omnivora, mamalia: True\n",
            "nama: cemong, usia: 1, jenis: omnivora, mamalia: True\n",
            "warna: putih coklat muda, jenis kucing: anggora\n"
          ]
        }
      ]
    },
    {
      "cell_type": "markdown",
      "metadata": {
        "id": "lLLHjBNp1HDe"
      },
      "source": [
        "## **Polymorphism**"
      ]
    },
    {
      "cell_type": "code",
      "metadata": {
        "colab": {
          "base_uri": "https://localhost:8080/"
        },
        "id": "BZLA6LDrxDHr",
        "outputId": "16bfb754-0e08-43c5-d633-684f21c8975c"
      },
      "source": [
        "class Ikan(Binatang):\n",
        "  def __init__(self,  nama, usia, jenis, mamalia, warna, jenis_air, jenis_ikan):\n",
        "    super().__init__(nama, usia, jenis, mamalia)\n",
        "    self.warna = warna\n",
        "    self.jenis_air = jenis_air\n",
        "    self.jenis_ikan = jenis_ikan\n",
        "  \n",
        "  def berenang(self, durasi):\n",
        "    print(\"wushh... wush... \")\n",
        "\n",
        "  def info_ikan(self):\n",
        "    print(f\"warna: {self.warna}, jenis ikan: {self.jenis_ikan}, jenis air: {self.jenis_air}\")\n",
        "\n",
        "fish1 = Ikan(\"Jago\", 2, \"omnivora\", False, \"Merah Putih\", \"Tawar\", \"Cupang\")\n",
        "\n",
        "fish1.info()\n",
        "fish1.info_ikan()\n",
        "fish1.tidur(5)"
      ],
      "execution_count": null,
      "outputs": [
        {
          "output_type": "stream",
          "name": "stdout",
          "text": [
            "nama: Jago, usia: 2, jenis: omnivora, mamalia: False\n",
            "warna: Merah Putih, jenis ikan: Cupang, jenis air: Tawar\n",
            "ddrrr... ddrrr... \n",
            "ddrrr... ddrrr... \n",
            "ddrrr... ddrrr... \n",
            "ddrrr... ddrrr... \n",
            "ddrrr... ddrrr... \n"
          ]
        }
      ]
    },
    {
      "cell_type": "markdown",
      "metadata": {
        "id": "bse6mJ62GOR1"
      },
      "source": [
        "## **Activity OOP**\n",
        "\n",
        "Buatlah 3 OOP beserta turunannya dari objek sekitar, buat ulang seperti yang diatas (encapsulation, abstaction, inheritance, polymorphism)"
      ]
    },
    {
      "cell_type": "markdown",
      "metadata": {
        "id": "0avCaPZBdJOw"
      },
      "source": [
        "**Encapsulation**"
      ]
    },
    {
      "cell_type": "code",
      "metadata": {
        "colab": {
          "base_uri": "https://localhost:8080/"
        },
        "id": "FW2k9ZPhcs9h",
        "outputId": "d89ca1ac-03a1-4f40-b5eb-a8c8c0fd1b46"
      },
      "source": [
        "nama = \"anggrek\"\n",
        "nama_ilmiah = \"paraphalaenopsis serpentilingua\"\n",
        "warna = \"putih dengan corak kuning dan merah\"\n",
        "\n",
        "def info_bunga(nama, nama_ilmiah, warna,):\n",
        "  print(f\"nama: {nama}, nama ilmiah : {nama_ilmiah}, warna: {warna}\")\n",
        "\n",
        "info_bunga(nama, nama_ilmiah, warna)\n",
        "\n",
        "class Bunga:\n",
        "  def __init__(self, nama, nama_ilmiah, warna):\n",
        "    self.nama = nama\n",
        "    self.nama_ilmiah = nama_ilmiah\n",
        "    self.warna = warna\n",
        "\n",
        "  def myfunc(self):\n",
        "    print(\"Hay aku adalah bunga \" + self.nama)\n",
        "\n",
        "  def info(self):\n",
        "    print(f\"nama: {nama}, nama ilmiah : {nama_ilmiah}, warna: {warna}\")\n",
        "\n",
        "bunga1 = Bunga(\"anggrek\",\"paraphalaenopsis serpentilingua\",\"putih dengan corak kuning dan merah\")\n",
        "\n",
        "bunga1.info()"
      ],
      "execution_count": null,
      "outputs": [
        {
          "output_type": "stream",
          "name": "stdout",
          "text": [
            "nama: anggrek, nama ilmiah : paraphalaenopsis serpentilingua, warna: putih dengan corak kuning dan merah\n",
            "nama: anggrek, nama ilmiah : paraphalaenopsis serpentilingua, warna: putih dengan corak kuning dan merah\n"
          ]
        }
      ]
    },
    {
      "cell_type": "code",
      "metadata": {
        "colab": {
          "base_uri": "https://localhost:8080/"
        },
        "id": "57MZeQTIc22P",
        "outputId": "4ed6a2b5-25b1-484b-faa4-daee257e42e4"
      },
      "source": [
        "nama = \"Honda CRV\"\n",
        "tahun_produksi = 2000 #usia diganti tahun_produksi\n",
        "warna = \"Merah\"\n",
        "tempat_produksi = \"Indonesia\" #jenis diganti tempat_produksi\n",
        "\n",
        "#def meongg():\n",
        "  #print(\"meeeoonnggg... \")\n",
        "\n",
        "def info_mobil(nama, tahun_produksi, warna, jenis): #info_kucing diganti info_mobil\n",
        "  print(f\"nama: {nama}, tahun_produksi: {tahun_produksi}, warna: {warna}, tempat_produksi: {tempat_produksi}\")\n",
        "\n",
        "info_mobil(nama, tahun_produksi, warna, tempat_produksi)\n",
        "\n",
        "\n",
        "class Mobil:#Kucing diganti Mobil\n",
        "  def __init__(self, nama, tahun_produksi, warna, tempat_produksi):\n",
        "    self.nama = nama\n",
        "    self.tahun_produksi = tahun_produksi\n",
        "    self.warna = warna\n",
        "    self.tempat_produksi = tempat_produksi\n",
        "\n",
        "  def myfunc(self):\n",
        "    print(\"Hello aku adalah mobil \" + self.nama)\n",
        "  \n",
        "  #def meong(self):\n",
        "    #print(\"meeeoonnggg... \")\n",
        "\n",
        "  def info(self):\n",
        "    print(f\"nama: {self.nama}, tahun_produksi: {self.tahun_produksi}, warna: {self.warna}, tempat_produksi: {self.tempat_produksi}\")\n",
        "\n",
        "\n",
        "mobil1 = Mobil(\"Honda CRV\", 2000, \"Merah\", \"Indonesia\")\n",
        "\n",
        "mobil1.info()"
      ],
      "execution_count": null,
      "outputs": [
        {
          "output_type": "stream",
          "name": "stdout",
          "text": [
            "nama: Honda CRV, tahun_produksi: 2000, warna: Merah, tempat_produksi: Indonesia\n",
            "nama: Honda CRV, tahun_produksi: 2000, warna: Merah, tempat_produksi: Indonesia\n"
          ]
        }
      ]
    },
    {
      "cell_type": "code",
      "metadata": {
        "colab": {
          "base_uri": "https://localhost:8080/"
        },
        "id": "hrQDc5hUdDE_",
        "outputId": "b4df5a62-1c3f-4144-9620-6aca5c1c753b"
      },
      "source": [
        "nama = \"Redmi\"\n",
        "Tahun = 2019\n",
        "warna = \"Hitam\"\n",
        "jenis = \"Note 8\"\n",
        "\n",
        "def redmi():\n",
        "  print(\"Redmi nih!!... \")\n",
        "\n",
        "def info_handphone(nama, tahun, warna, jenis):\n",
        "  print(f\"nama: {nama}, tahun: {Tahun}, warna: {warna}, jenis: {jenis}\")\n",
        "\n",
        "info_handphone(nama, Tahun, warna, jenis)\n",
        "\n",
        "class handphone:\n",
        "  def __init__(self, nama, Tahun, warna, jenis):\n",
        "    self.nama = nama\n",
        "    self.Tahun = Tahun\n",
        "    self.warna = warna\n",
        "    self.jenis = jenis\n",
        "\n",
        "  def myfunc(self):\n",
        "    print(\"Hello handphone kamu apaaa? \" + self.nama)\n",
        "  \n",
        "  def tringtring(self):\n",
        "    print(\"Redmi nih!!... \")\n",
        "\n",
        "  def info(self):\n",
        "    print(f\"nama: {self.nama}, Tahun: {self.Tahun}, warna: {self.warna}, jenis: {self.jenis}\")\n",
        "\n",
        "\n",
        "handphone1 = handphone(\"redmi\", 2019, \"Hitam\", \"note 8\")\n",
        "\n",
        "handphone1.info()"
      ],
      "execution_count": null,
      "outputs": [
        {
          "output_type": "stream",
          "name": "stdout",
          "text": [
            "nama: Redmi, tahun: 2019, warna: Hitam, jenis: Note 8\n",
            "nama: redmi, Tahun: 2019, warna: Hitam, jenis: note 8\n"
          ]
        }
      ]
    },
    {
      "cell_type": "markdown",
      "metadata": {
        "id": "PLAedv1GdSWJ"
      },
      "source": [
        "**Abstraction**"
      ]
    },
    {
      "cell_type": "code",
      "metadata": {
        "colab": {
          "base_uri": "https://localhost:8080/"
        },
        "id": "tiD74BrSdfyY",
        "outputId": "47c3ac6e-45ed-410e-cf1c-399609ccf7d6"
      },
      "source": [
        "bunga1.myfunc()"
      ],
      "execution_count": null,
      "outputs": [
        {
          "output_type": "stream",
          "name": "stdout",
          "text": [
            "Hay aku adalah bunga anggrek\n"
          ]
        }
      ]
    },
    {
      "cell_type": "code",
      "metadata": {
        "colab": {
          "base_uri": "https://localhost:8080/"
        },
        "id": "9_bw0dqAdgzl",
        "outputId": "e1663cbc-29ec-42c0-f3d2-16076ab87fe3"
      },
      "source": [
        "mobil1.myfunc()"
      ],
      "execution_count": null,
      "outputs": [
        {
          "output_type": "stream",
          "name": "stdout",
          "text": [
            "Hello aku adalah mobil Honda CRV\n"
          ]
        }
      ]
    },
    {
      "cell_type": "code",
      "metadata": {
        "colab": {
          "base_uri": "https://localhost:8080/"
        },
        "id": "8SnordOkdhK5",
        "outputId": "20aea6da-d7aa-42c8-f82c-200d0b02f728"
      },
      "source": [
        "handphone1.myfunc()"
      ],
      "execution_count": null,
      "outputs": [
        {
          "output_type": "stream",
          "name": "stdout",
          "text": [
            "Hello handphone kamu apaaa? redmi\n"
          ]
        }
      ]
    },
    {
      "cell_type": "markdown",
      "metadata": {
        "id": "oz5HGaJZebP0"
      },
      "source": [
        "**Inheritence**"
      ]
    },
    {
      "cell_type": "code",
      "metadata": {
        "colab": {
          "base_uri": "https://localhost:8080/"
        },
        "id": "i3SsbHe0ebhM",
        "outputId": "993c219a-d864-43d9-c538-a93801886a02"
      },
      "source": [
        "class Tumbuhan(object):\n",
        "  def __init__(self, nama, jenis, asal):\n",
        "    self.nama = nama\n",
        "    self.jenis = jenis\n",
        "    self.asal = asal\n",
        "\n",
        "  def layu(self, durasi):\n",
        "    for x in range(durasi):\n",
        "      print(\"kering.... \")\n",
        "\n",
        "  def info(self):\n",
        "    print(f\"nama: {self.nama}, jenis: {self.jenis}, asal: {self.asal}\")\n",
        "\n",
        "\n",
        "flower = Tumbuhan(\"anggrek\",\"anggrek_bulan\", True)\n",
        "\n",
        "flower.info()\n",
        "\n",
        "class Bunga(Tumbuhan):\n",
        "  def __init__(self,  nama, jenis, asal, warna, nama_latin):\n",
        "    super().__init__(nama, jenis, asal)\n",
        "    self.warna = warna\n",
        "    self.nama_latin = nama_latin\n",
        "\n",
        "  def info_bunga(self):\n",
        "    print(f\"warna: {self.warna}, nama_latin: {self.nama_latin}\")\n",
        "\n",
        "bunga1 = Bunga(\"anggrek\",\"anggrek_bulan\", True, \"putih corak kuning\",\"phalaenopsis amabilis\")\n",
        "\n",
        "bunga1.info()\n",
        "bunga1.info_bunga()"
      ],
      "execution_count": null,
      "outputs": [
        {
          "output_type": "stream",
          "name": "stdout",
          "text": [
            "nama: anggrek, jenis: anggrek_bulan, asal: True\n",
            "nama: anggrek, jenis: anggrek_bulan, asal: True\n",
            "warna: putih corak kuning, nama_latin: phalaenopsis amabilis\n"
          ]
        }
      ]
    },
    {
      "cell_type": "code",
      "metadata": {
        "colab": {
          "base_uri": "https://localhost:8080/"
        },
        "id": "4vllC-4OfDD2",
        "outputId": "a69bf38e-4018-4e4b-8abe-2e8e5d897946"
      },
      "source": [
        "class Kendaraan(object): #Binatang diganti Kendaraan\n",
        "  def __init__(self, nama, tahun_produksi, tempat_produksi, diesel):\n",
        "    self.nama = nama\n",
        "    self.tahun_produksi = tahun_produksi #usia diganti tahun_produksi\n",
        "    self.tempat_produksi = tempat_produksi #jenis diganti tempat_produksi\n",
        "    self.diesel = diesel #mamalia diganti diesel\n",
        "\n",
        "  def tempuh(self, durasi): #tidur diganti tempuh\n",
        "    for x in range(durasi):\n",
        "      print(\"...........\")\n",
        "\n",
        "  def info(self):\n",
        "    print(f\"nama: {self.nama}, tahun_produksi: {self.tahun_produksi}, tempat_produksi: {self.tempat_produksi}, diesel: {self.diesel}\")\n",
        "\n",
        "\n",
        "kendaraan1 = Kendaraan(\"Honda CRV\", 2000, \"Indonesia\", True)\n",
        "\n",
        "kendaraan1.info()\n",
        "\n",
        "class Mobil(Kendaraan):\n",
        "  def __init__(self,  nama, tahun_produksi, tempat_produksi, diesel, warna, tempat_produksi_mobil):\n",
        "    super().__init__(nama, tahun_produksi, tempat_produksi, diesel)\n",
        "    self.warna = warna\n",
        "    self.tempat_produksi_mobil = tempat_produksi_mobil #jenis_kucing diganti tempat_produksi_mobil\n",
        "  \n",
        "  #def meong(self):\n",
        "    #print(\"meeeonnggg\")\n",
        "\n",
        "  def info_mobil(self):\n",
        "    print(f\"warna: {self.warna}, tempat_produksi_mobil: {self.tempat_produksi_mobil}\")\n",
        "\n",
        "car1 = Mobil(\"Honda CRV\", 2000, \"Indonesia\", True, \"Merah\", \"PT Astra Honda\")\n",
        "\n",
        "car1.info()\n",
        "car1.info_mobil()"
      ],
      "execution_count": null,
      "outputs": [
        {
          "output_type": "stream",
          "name": "stdout",
          "text": [
            "nama: Honda CRV, tahun_produksi: 2000, tempat_produksi: Indonesia, diesel: True\n",
            "nama: Honda CRV, tahun_produksi: 2000, tempat_produksi: Indonesia, diesel: True\n",
            "warna: Merah, tempat_produksi_mobil: PT Astra Honda\n"
          ]
        }
      ]
    },
    {
      "cell_type": "code",
      "metadata": {
        "colab": {
          "base_uri": "https://localhost:8080/"
        },
        "id": "mc0_NL49fDlH",
        "outputId": "26bc3620-2154-4fa4-8362-974c4c630760"
      },
      "source": [
        "class perusahaan(object):\n",
        "  def __init__(self, nama, Tahun, jenis, perusahaan):\n",
        "    self.nama = nama\n",
        "    self.Tahun = Tahun\n",
        "    self.jenis = jenis\n",
        "    self.perusahaan = perusahaan\n",
        "\n",
        "  def tidur(self, durasi):\n",
        "    for x in range(durasi):\n",
        "      print(\"HAlo halo ahhah \")\n",
        "\n",
        "  def info(self):\n",
        "    print(f\"nama: {self.nama}, tahun: {self.Tahun}, jenis: {self.jenis}, MI: {self.perusahaan}\")\n",
        "\n",
        "\n",
        "perusahaan1 = perusahaan(\"redmi\", 2019, \"MI\", True)\n",
        "\n",
        "perusahaan1.info()\n",
        "\n",
        "class Handphone(perusahaan):\n",
        "  def __init__(self,  nama, Tahun, jenis, perusahaan, warna, jenis_handphone):\n",
        "    super().__init__(nama, Tahun, jenis, perusahaan)\n",
        "    self.warna = warna\n",
        "    self.jenis_handphone = jenis_handphone\n",
        "  \n",
        "  def handphone(self):\n",
        "    print(\"Redmi nih!!\")\n",
        "\n",
        "  def info_handphone(self):\n",
        "    print(f\"warna: {self.warna}, jenis handphone: {self.jenis_handphone}\")\n",
        "\n",
        "cat1 = Handphone(\"Redmi\", 2019, \"note 8\", True, \"Hitam\", \"MI\")\n",
        "\n",
        "cat1.info()\n",
        "cat1.info_handphone()"
      ],
      "execution_count": null,
      "outputs": [
        {
          "output_type": "stream",
          "name": "stdout",
          "text": [
            "nama: redmi, tahun: 2019, jenis: MI, MI: True\n",
            "nama: Redmi, tahun: 2019, jenis: note 8, MI: True\n",
            "warna: Hitam, jenis handphone: MI\n"
          ]
        }
      ]
    },
    {
      "cell_type": "markdown",
      "metadata": {
        "id": "h-MCoDehfgBe"
      },
      "source": [
        "**Polymorphism**"
      ]
    },
    {
      "cell_type": "code",
      "metadata": {
        "colab": {
          "base_uri": "https://localhost:8080/"
        },
        "id": "6bGu7d0FfgTP",
        "outputId": "3152caa4-5ded-4460-e106-211a97a967fc"
      },
      "source": [
        "class Anggrek(Tumbuhan):\n",
        "  def __init__(self,nama, jenis, warna, asal):\n",
        "    super().__init__(nama, jenis, warna)\n",
        "    self.asal = asal\n",
        "  \n",
        "  def mati(self, durasi):\n",
        "    for x in range(durasi):\n",
        "      print('kering')\n",
        "\n",
        "  def info_tipe(self):\n",
        "    print(f\"asal: {self.asal}\")\n",
        "\n",
        "Flower1 = Anggrek(\"anggrek\", \"Kantung Kolopaking\", \"hijau\", \"Cupang\")\n",
        "\n",
        "Flower1.info()\n",
        "Flower1.info_tipe()\n",
        "Flower1.mati(10)"
      ],
      "execution_count": null,
      "outputs": [
        {
          "output_type": "stream",
          "name": "stdout",
          "text": [
            "nama: anggrek, jenis: Kantung Kolopaking, asal: Cupang\n",
            "asal: Cupang\n",
            "kering\n",
            "kering\n",
            "kering\n",
            "kering\n",
            "kering\n",
            "kering\n",
            "kering\n",
            "kering\n",
            "kering\n",
            "kering\n"
          ]
        }
      ]
    },
    {
      "cell_type": "code",
      "metadata": {
        "colab": {
          "base_uri": "https://localhost:8080/"
        },
        "id": "vMMcgaNifgkQ",
        "outputId": "28965f5f-79d5-40fa-aa67-86cbfecf3b88"
      },
      "source": [
        "class Motor(Kendaraan):\n",
        "  def __init__(self,  nama, tahun_produksi, tempat_produksi, diesel, warna, jenis_jalan, jenis_motor):\n",
        "    super().__init__(nama, tahun_produksi, tempat_produksi, diesel)\n",
        "    self.warna = warna\n",
        "    self.jenis_jalan = jenis_jalan\n",
        "    self.jenis_motor = jenis_motor\n",
        "  \n",
        "  def menempuh(self, durasi):\n",
        "    print(\"ngeng ngeng\")\n",
        "\n",
        "  def info_motor(self):\n",
        "    print(f\"warna: {self.warna}, jenis_motor: {self.jenis_motor}, jenis_jalan: {self.jenis_jalan}\")\n",
        "\n",
        "motor1 = Motor(\"Honda CBR\", 2015, \"Indonesia\", False, \"Biru\", \"Aspal\", \"Kopling\")\n",
        "\n",
        "motor1.info()\n",
        "motor1.info_motor()\n",
        "motor1.menempuh(150)"
      ],
      "execution_count": null,
      "outputs": [
        {
          "output_type": "stream",
          "name": "stdout",
          "text": [
            "nama: Honda CBR, tahun_produksi: 2015, tempat_produksi: Indonesia, diesel: False\n",
            "warna: Biru, jenis_motor: Kopling, jenis_jalan: Aspal\n",
            "ngeng ngeng\n"
          ]
        }
      ]
    },
    {
      "cell_type": "code",
      "metadata": {
        "colab": {
          "base_uri": "https://localhost:8080/"
        },
        "id": "X6UKos3pfguI",
        "outputId": "6cb75c79-fba9-42b0-a255-220362ac6ee9"
      },
      "source": [
        "class samsung(perusahaan):\n",
        "  def __init__(self,  nama, Tahun, jenis, mamalia, warna, jenis_samsung):\n",
        "    super().__init__(nama, Tahun, jenis, mamalia)\n",
        "    self.warna = warna\n",
        "    self.jenis_samsung = jenis_samsung\n",
        "  \n",
        "  def pengembang(self, durasi):\n",
        "    print(\"luarbiasa luarbiasa \")\n",
        "\n",
        "  def info_samsung(self):\n",
        "    print(f\"warna: {self.warna}, jenis samsung: {self.jenis_samsung}\")\n",
        "\n",
        "hape1 = samsung(\"galaxy\", 2019, \"m24\", False, \"hitam\", \"new\")\n",
        "hape1.info()\n",
        "hape1.info_samsung()\n",
        "hape1.tidur(5)"
      ],
      "execution_count": null,
      "outputs": [
        {
          "output_type": "stream",
          "name": "stdout",
          "text": [
            "nama: galaxy, tahun: 2019, jenis: m24, MI: False\n",
            "warna: hitam, jenis samsung: new\n",
            "HAlo halo ahhah \n",
            "HAlo halo ahhah \n",
            "HAlo halo ahhah \n",
            "HAlo halo ahhah \n",
            "HAlo halo ahhah \n"
          ]
        }
      ]
    },
    {
      "cell_type": "markdown",
      "metadata": {
        "id": "xf3ylfGtB8qY"
      },
      "source": [
        "# **Time Complexity**\n",
        "## Activity \n",
        "\n",
        "Hitung time complexity dengan bigO Notation pada algoritma berikut:\n",
        "\n",
        "* Tidak perlu di run"
      ]
    },
    {
      "cell_type": "code",
      "metadata": {
        "colab": {
          "base_uri": "https://localhost:8080/"
        },
        "id": "fnk4oJoJCJJG",
        "outputId": "3c32fbc6-3287-4a30-c9d4-73fcb24594e7"
      },
      "source": [
        "# #Big O(3)= O(1)\n",
        "\n",
        "arr = [1, 2, 3, 4, 5]\n",
        "\n",
        "print(arr[0])\n",
        "print(arr[1])"
      ],
      "execution_count": null,
      "outputs": [
        {
          "output_type": "stream",
          "name": "stdout",
          "text": [
            "1\n",
            "2\n"
          ]
        }
      ]
    },
    {
      "cell_type": "code",
      "metadata": {
        "colab": {
          "base_uri": "https://localhost:8080/"
        },
        "id": "LCgmhC-qD0p2",
        "outputId": "36a8fa90-f45e-41a8-b005-a4ef60053bdc"
      },
      "source": [
        "# 2    #Big O(3 + n) = O(n)\n",
        "\n",
        "print(arr[2])\n",
        "for number in arr:\n",
        "  print(number)\n",
        "print(arr[1])\n",
        "print(arr[2])"
      ],
      "execution_count": null,
      "outputs": [
        {
          "output_type": "stream",
          "name": "stdout",
          "text": [
            "3\n",
            "1\n",
            "2\n",
            "3\n",
            "4\n",
            "5\n",
            "2\n",
            "3\n"
          ]
        }
      ]
    },
    {
      "cell_type": "code",
      "metadata": {
        "colab": {
          "base_uri": "https://localhost:8080/"
        },
        "id": "w5Upv3LdECFO",
        "outputId": "fdf5488d-0fe2-495c-9433-81bd713cea3a"
      },
      "source": [
        "# 3    #Big O(3 + n) = O(n)\n",
        "\n",
        "arr2 = [6, 7, 8, 9, 10]\n",
        "\n",
        "for number in arr:\n",
        "  print(number)\n",
        "for number in arr2:\n",
        "  print(number)\n",
        "print(arr2[4])"
      ],
      "execution_count": null,
      "outputs": [
        {
          "output_type": "stream",
          "name": "stdout",
          "text": [
            "1\n",
            "2\n",
            "3\n",
            "4\n",
            "5\n",
            "6\n",
            "7\n",
            "8\n",
            "9\n",
            "10\n",
            "10\n"
          ]
        }
      ]
    },
    {
      "cell_type": "code",
      "metadata": {
        "colab": {
          "base_uri": "https://localhost:8080/"
        },
        "id": "yXtKHziAEghO",
        "outputId": "dce6dec8-c156-491e-ca32-0b742f376c90"
      },
      "source": [
        "# 4\n",
        "#Big O(1 + 2n)= O(n)\n",
        "print(arr2[1])\n",
        "for number in arr:\n",
        "  print(number)\n",
        "for number in arr:\n",
        "  print(number)"
      ],
      "execution_count": null,
      "outputs": [
        {
          "output_type": "stream",
          "name": "stdout",
          "text": [
            "7\n",
            "1\n",
            "2\n",
            "3\n",
            "4\n",
            "5\n",
            "1\n",
            "2\n",
            "3\n",
            "4\n",
            "5\n"
          ]
        }
      ]
    },
    {
      "cell_type": "code",
      "metadata": {
        "colab": {
          "base_uri": "https://localhost:8080/"
        },
        "id": "9dXVL-S9EzxT",
        "outputId": "6d0c0f34-e758-4e9f-a61b-1a60dbb24612"
      },
      "source": [
        "# 5\n",
        "#Big O(2 + n^2)= O(n^2)\n",
        "for number in arr:\n",
        "  for number2 in arr2:\n",
        "    print(number+number2)\n",
        "print(arr[1]+arr2[1])\n",
        "print(arr2[2])"
      ],
      "execution_count": null,
      "outputs": [
        {
          "output_type": "stream",
          "name": "stdout",
          "text": [
            "7\n",
            "8\n",
            "9\n",
            "10\n",
            "11\n",
            "8\n",
            "9\n",
            "10\n",
            "11\n",
            "12\n",
            "9\n",
            "10\n",
            "11\n",
            "12\n",
            "13\n",
            "10\n",
            "11\n",
            "12\n",
            "13\n",
            "14\n",
            "11\n",
            "12\n",
            "13\n",
            "14\n",
            "15\n",
            "9\n",
            "8\n"
          ]
        }
      ]
    },
    {
      "cell_type": "code",
      "metadata": {
        "colab": {
          "base_uri": "https://localhost:8080/"
        },
        "id": "6SC68I3PFFge",
        "outputId": "fb00b886-f9cc-4e48-d148-24212fc98d31"
      },
      "source": [
        "# 6 \n",
        "#Big O(1 + n^2)= O(n^2)\n",
        "for number in arr:\n",
        "  for number2 in arr:\n",
        "    print(number+number2)\n",
        "print(arr)"
      ],
      "execution_count": null,
      "outputs": [
        {
          "output_type": "stream",
          "name": "stdout",
          "text": [
            "2\n",
            "3\n",
            "4\n",
            "5\n",
            "6\n",
            "3\n",
            "4\n",
            "5\n",
            "6\n",
            "7\n",
            "4\n",
            "5\n",
            "6\n",
            "7\n",
            "8\n",
            "5\n",
            "6\n",
            "7\n",
            "8\n",
            "9\n",
            "6\n",
            "7\n",
            "8\n",
            "9\n",
            "10\n",
            "[1, 2, 3, 4, 5]\n"
          ]
        }
      ]
    },
    {
      "cell_type": "code",
      "metadata": {
        "id": "b7w1_oXnGXfs"
      },
      "source": [
        "# 7 \n",
        "#Big O(3 + n^3)= O(n^3)\n",
        "for number in arr:\n",
        "  for number2 in arr2:\n",
        "    for number3 in arr:\n",
        "      print(number+number2+number3)\n",
        "print(arr[1])\n",
        "print(arr2[2])\n",
        "print(arr2[3])\n"
      ],
      "execution_count": null,
      "outputs": []
    },
    {
      "cell_type": "code",
      "metadata": {
        "id": "Cm1Hcy3JG6sh"
      },
      "source": [
        "# 8\n",
        "#Big O(2 + n + n^2)= O(n^2)\n",
        "for number in arr:\n",
        "  print(number)\n",
        "print(arr2)\n",
        "for number in arr:\n",
        "  for number2 in arr2:\n",
        "    print(number+number2)\n",
        "print(arr)"
      ],
      "execution_count": null,
      "outputs": []
    },
    {
      "cell_type": "code",
      "metadata": {
        "id": "EgpO69yqHJ3K"
      },
      "source": [
        "# 9 \n",
        "\n",
        "# algoritma bubble sort"
      ],
      "execution_count": null,
      "outputs": []
    },
    {
      "cell_type": "code",
      "metadata": {
        "id": "qD9VauTyG_RJ"
      },
      "source": [
        "# 10\n",
        "\n",
        "# algoritma linear search"
      ],
      "execution_count": null,
      "outputs": []
    },
    {
      "cell_type": "code",
      "metadata": {
        "id": "OaKrQWZJH28k"
      },
      "source": [
        "# 11\n",
        "\n",
        "# algoritma binary search"
      ],
      "execution_count": null,
      "outputs": []
    }
  ]
}